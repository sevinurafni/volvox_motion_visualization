{
 "cells": [
  {
   "cell_type": "code",
   "execution_count": 16,
   "metadata": {},
   "outputs": [],
   "source": [
    "import cv2\n",
    "import numpy as np\n",
    "from imutils.video import FPS\n",
    "import time"
   ]
  },
  {
   "cell_type": "code",
   "execution_count": 17,
   "metadata": {},
   "outputs": [],
   "source": [
    "# Create a VideoCapture object and read from input file\n",
    "# If the input is the camera, pass 0 instead of the video file name\n",
    "video_name = 'motion/comb/100100.gif'\n",
    "cap = cv2.VideoCapture(video_name)"
   ]
  },
  {
   "cell_type": "code",
   "execution_count": 18,
   "metadata": {},
   "outputs": [
    {
     "name": "stdout",
     "output_type": "stream",
     "text": [
      "Creating..../data/rot0.jpg\n",
      "Creating..../data/rot1.jpg\n",
      "Creating..../data/rot2.jpg\n",
      "Creating..../data/rot3.jpg\n",
      "Creating..../data/rot4.jpg\n",
      "Creating..../data/rot5.jpg\n",
      "Creating..../data/rot6.jpg\n",
      "Creating..../data/rot7.jpg\n",
      "Creating..../data/rot8.jpg\n",
      "Creating..../data/rot9.jpg\n",
      "Creating..../data/rot10.jpg\n",
      "Creating..../data/rot11.jpg\n",
      "Creating..../data/rot12.jpg\n",
      "Creating..../data/rot13.jpg\n",
      "Creating..../data/rot14.jpg\n",
      "Creating..../data/rot15.jpg\n",
      "Creating..../data/rot16.jpg\n",
      "Creating..../data/rot17.jpg\n",
      "Creating..../data/rot18.jpg\n",
      "Creating..../data/rot19.jpg\n",
      "Creating..../data/rot20.jpg\n",
      "Creating..../data/rot21.jpg\n",
      "Creating..../data/rot22.jpg\n",
      "Creating..../data/rot23.jpg\n",
      "Creating..../data/rot24.jpg\n",
      "Creating..../data/rot25.jpg\n",
      "Creating..../data/rot26.jpg\n",
      "Creating..../data/rot27.jpg\n",
      "Creating..../data/rot28.jpg\n",
      "Creating..../data/rot29.jpg\n",
      "Creating..../data/rot30.jpg\n",
      "Creating..../data/rot31.jpg\n",
      "Creating..../data/rot32.jpg\n",
      "Creating..../data/rot33.jpg\n",
      "Creating..../data/rot34.jpg\n",
      "Creating..../data/rot35.jpg\n",
      "Creating..../data/rot36.jpg\n",
      "Creating..../data/rot37.jpg\n",
      "Creating..../data/rot38.jpg\n",
      "Creating..../data/rot39.jpg\n"
     ]
    }
   ],
   "source": [
    "#CAPTURE (Don't run code playing video)\n",
    "\n",
    "# creating folder for storing images\n",
    "if not os.path.exists('data'): \n",
    "    os.makedirs('data') \n",
    "  \n",
    "# frame \n",
    "currentframe = 0\n",
    "  \n",
    "while(True): \n",
    "    ret,frame = cap.read()  \n",
    "    if ret: \n",
    "        name = './data/comb' +str(currentframe) + '.jpg'\n",
    "        print ('Creating...' + name) \n",
    "        cv2.imwrite(name, frame) \n",
    "        currentframe += 1\n",
    "    else: \n",
    "        break\n",
    "  \n",
    "# Release all space and windows once done \n",
    "cap.release() \n",
    "cv2.destroyAllWindows()"
   ]
  }
 ],
 "metadata": {
  "interpreter": {
   "hash": "fd69f43f58546b570e94fd7eba7b65e6bcc7a5bbc4eab0408017d18902915d69"
  },
  "kernelspec": {
   "display_name": "Python 3.7.12 64-bit",
   "language": "python",
   "name": "python3"
  },
  "language_info": {
   "codemirror_mode": {
    "name": "ipython",
    "version": 3
   },
   "file_extension": ".py",
   "mimetype": "text/x-python",
   "name": "python",
   "nbconvert_exporter": "python",
   "pygments_lexer": "ipython3",
   "version": "3.7.12"
  },
  "orig_nbformat": 4
 },
 "nbformat": 4,
 "nbformat_minor": 2
}
